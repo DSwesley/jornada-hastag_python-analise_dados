{
 "cells": [
  {
   "cell_type": "markdown",
   "metadata": {},
   "source": [
    "# Python Insights - Analisando Dados com Python\n",
    "\n",
    "### Case - Cancelamento de Clientes\n",
    "\n",
    "Você foi contratado por uma empresa com mais de 800 mil clientes para um projeto de Dados. Recentemente a empresa percebeu que da sua base total de clientes, a maioria são clientes inativos, ou seja, que já cancelaram o serviço.\n",
    "\n",
    "Precisando melhorar seus resultados ela quer conseguir entender os principais motivos desses cancelamentos e quais as ações mais eficientes para reduzir esse número.\n",
    "\n",
    "Base de dados e arquivos: https://drive.google.com/drive/folders/1uDesZePdkhiraJmiyeZ-w5tfc8XsNYFZ?usp=drive_link"
   ]
  },
  {
   "cell_type": "code",
   "execution_count": 3,
   "metadata": {},
   "outputs": [],
   "source": [
    "# passo a passo do projeto\n",
    "\n",
    "# 1 - importar a base de dados\n",
    "import pandas as pd\n",
    "\n",
    "tabela = pd.read_csv(\"cancelamentos_sample.csv\")"
   ]
  },
  {
   "cell_type": "code",
   "execution_count": null,
   "metadata": {},
   "outputs": [],
   "source": [
    "# 2 - vizualizar a base de dados\n",
    "tabela = tabela.drop(columns=\"CustomerID\")\n",
    "display(tabela)\n",
    "\n",
    "\n",
    "# procurar as cagadas ->\n",
    "# colunas inuteis - informacoes que nao te ajudam, atrapalham\n",
    "# valores vazio\n"
   ]
  },
  {
   "cell_type": "code",
   "execution_count": null,
   "metadata": {},
   "outputs": [],
   "source": [
    "# 3 - corrigir as bases de dados\n",
    "# pode usar o print ou display, (display fica mais bonito no jupyter notebook)\n",
    "display(tabela.info()) #monstra quais colunas estao vazias\n",
    "tabela = tabela.dropna() # exclui valores vazios de ambas colunas\n",
    "display(tabela.info())"
   ]
  },
  {
   "cell_type": "code",
   "execution_count": null,
   "metadata": {},
   "outputs": [],
   "source": [
    "# 4 - analise inicial dos cancelamentos\n",
    "\n",
    "#quantas pessoas cancelaram e quntas nao cancelaram?\n",
    "display(tabela[\"cancelou\"].value_counts())\n",
    "\n",
    "# em percentual?\n",
    "display(tabela[\"cancelou\"].value_counts(normalize=True))\n",
    "#display(tabela[\"cancelou\"].value_counts(normalize=True).map(\"{:.1%}\".format))"
   ]
  },
  {
   "cell_type": "code",
   "execution_count": null,
   "metadata": {},
   "outputs": [],
   "source": [
    "# 5 - analise das causas dos cancelamentos\n",
    "# criar graficos/ dashboard\n",
    "\n",
    "import plotly.express as px\n",
    "\n",
    "# criar grafico\n",
    "for coluna in tabela.columns:\n",
    "    \n",
    "    grafico = px.histogram(tabela, x=coluna, color=\"cancelou\")\n",
    "    \n",
    "    # exibir o grafico\n",
    "    grafico.show()"
   ]
  },
  {
   "cell_type": "code",
   "execution_count": null,
   "metadata": {},
   "outputs": [],
   "source": [
    "# clientes do contrato mensal TODOS cancelam\n",
    "# -> oferecer desconto nos planos anuais e trimestrais\n",
    "# clientes que ligam mais do que 4 vezes para o call center, cancelam\n",
    "# -> criar um processo para resolver o problema em no maximo 3 ligaçoes\n",
    "# clientes que atrasaram mais de 20 dias, cancelam\n",
    "# -> politica de resolver atrasos em ate 10 dias (equipe financeira)\n",
    "\n",
    "#sabendo das condiçoes, colocamos os problemas nas tabelas a seguir\n",
    "#ou seja, todos os clientes mensais, os clientes que ligam acima de 4x, e os clientes que atrasam acima de 20dias\n",
    "\n",
    "# tabela normal, para saber o valor \n",
    "tabela = tabela[tabela[\"duracao_contrato\"]!=\"Monthly\"]\n",
    "tabela = tabela[tabela[\"ligacoes_callcenter\"]<=4]\n",
    "tabela = tabela[tabela[\"dias_atraso\"]<=20]\n",
    "display(tabela[\"cancelou\"].value_counts())\n",
    "#em percentual\n",
    "display(tabela[\"cancelou\"].value_counts(normalize=True))\n",
    "\n"
   ]
  },
  {
   "cell_type": "code",
   "execution_count": null,
   "metadata": {},
   "outputs": [],
   "source": []
  }
 ],
 "metadata": {
  "kernelspec": {
   "display_name": "base",
   "language": "python",
   "name": "python3"
  },
  "language_info": {
   "codemirror_mode": {
    "name": "ipython",
    "version": 3
   },
   "file_extension": ".py",
   "mimetype": "text/x-python",
   "name": "python",
   "nbconvert_exporter": "python",
   "pygments_lexer": "ipython3",
   "version": "3.10.12"
  },
  "orig_nbformat": 4
 },
 "nbformat": 4,
 "nbformat_minor": 2
}
